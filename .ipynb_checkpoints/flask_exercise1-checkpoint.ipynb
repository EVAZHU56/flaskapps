{
 "cells": [
  {
   "cell_type": "code",
   "execution_count": 1,
   "metadata": {},
   "outputs": [
    {
     "name": "stdout",
     "output_type": "stream",
     "text": [
      "Requirement already satisfied: Werkzeug in /Library/Frameworks/Python.framework/Versions/3.7/lib/python3.7/site-packages (0.15.6)\n",
      "\u001b[33mYou are using pip version 18.1, however version 19.2.3 is available.\n",
      "You should consider upgrading via the 'pip install --upgrade pip' command.\u001b[0m\n"
     ]
    }
   ],
   "source": [
    "import sys \n",
    "!pip3 install Werkzeug"
   ]
  },
  {
   "cell_type": "code",
   "execution_count": null,
   "metadata": {},
   "outputs": [
    {
     "name": "stderr",
     "output_type": "stream",
     "text": [
      " * Running on http://localhost:9002/ (Press CTRL+C to quit)\n"
     ]
    }
   ],
   "source": [
    "import os\n",
    "from werkzeug.wsgi import SharedDataMiddleware\n",
    "\n",
    "from flask import Flask \n",
    "app = Flask(__name__)\n",
    "\n",
    "@app.route('/') \n",
    "def hello_world():\n",
    "  return 'Hello from Flask!'\n",
    "\n",
    "if __name__ == '__main__':\n",
    "  from werkzeug.serving import run_simple \n",
    "  run_simple('localhost', 9002, app)"
   ]
  },
  {
   "cell_type": "code",
   "execution_count": null,
   "metadata": {},
   "outputs": [
    {
     "name": "stderr",
     "output_type": "stream",
     "text": [
      " * Running on http://localhost:9003/ (Press CTRL+C to quit)\n",
      "127.0.0.1 - - [18/Sep/2019 00:10:17] \"GET / HTTP/1.1\" 200 -\n",
      "127.0.0.1 - - [18/Sep/2019 00:10:17] \"GET /album.css HTTP/1.1\" 404 -\n",
      "127.0.0.1 - - [18/Sep/2019 00:10:20] \"GET /aboutus HTTP/1.1\" 200 -\n",
      "127.0.0.1 - - [18/Sep/2019 00:10:20] \"GET /album.css HTTP/1.1\" 404 -\n"
     ]
    }
   ],
   "source": [
    "import os\n",
    "from werkzeug.wsgi import SharedDataMiddleware\n",
    "\n",
    "from flask import Flask, render_template \n",
    "\n",
    "app = Flask(__name__)\n",
    "\n",
    "# The following line is only needed for running insdie Jupyter Notebook \n",
    "root_path = os.path.sep.join(app.instance_path.split(os.path.sep)[:-1])\n",
    "\n",
    "@app.route(\"/\") \n",
    "def home():\n",
    "    return render_template('myhome.html')\n",
    "\n",
    "@app.route(\"/aboutus\")\n",
    "def aboutus():\n",
    "    return render_template('aboutus.html')\n",
    "\n",
    "\n",
    "if __name__ == '__main__':\n",
    "    from werkzeug.serving import run_simple\n",
    "    app.wsgi_app = SharedDataMiddleware(app.wsgi_app, { \n",
    "        '/static':root_path+'/flaskapps/static',\n",
    "        '/templates':root_path+'/flaskapps/templates'\n",
    "    }) \n",
    "    run_simple('localhost', 9003, app)"
   ]
  },
  {
   "cell_type": "code",
   "execution_count": null,
   "metadata": {},
   "outputs": [],
   "source": []
  },
  {
   "cell_type": "code",
   "execution_count": null,
   "metadata": {},
   "outputs": [],
   "source": []
  }
 ],
 "metadata": {
  "kernelspec": {
   "display_name": "Python 3",
   "language": "python",
   "name": "python3"
  },
  "language_info": {
   "codemirror_mode": {
    "name": "ipython",
    "version": 3
   },
   "file_extension": ".py",
   "mimetype": "text/x-python",
   "name": "python",
   "nbconvert_exporter": "python",
   "pygments_lexer": "ipython3",
   "version": "3.7.1"
  }
 },
 "nbformat": 4,
 "nbformat_minor": 2
}
